from transformers import AutoTokenizer, AutoModelForCausalLM
hf_token = 'to_be_filled'


tokenizer = AutoTokenizer.from_pretrained("google/gemma-2b-it",use_auth_token=hf_token)
model = AutoModelForCausalLM.from_pretrained("google/gemma-2b-it",use_auth_token=hf_token)

input_text = "What is Machine learning"
input_ids = tokenizer(input_text, return_tensors="pt")

outputs = model.generate(**input_ids)
print(tokenizer.decode(outputs[0]))
